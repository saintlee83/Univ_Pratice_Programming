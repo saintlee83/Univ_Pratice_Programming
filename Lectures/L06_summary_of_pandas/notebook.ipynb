{
 "cells": [
  {
   "cell_type": "code",
   "execution_count": 2,
   "id": "c377a6f8",
   "metadata": {},
   "outputs": [
    {
     "name": "stdout",
     "output_type": "stream",
     "text": [
      "리스트로 생성\n",
      "0    10\n",
      "1    20\n",
      "2    30\n",
      "3    40\n",
      "4    50\n",
      "dtype: int64\n"
     ]
    }
   ],
   "source": [
    "import pandas as pd\n",
    "import numpy as np\n",
    "\n",
    "tmp = [10, 20, 30, 40, 50]\n",
    "s1 = pd.Series(tmp)\n",
    "\n",
    "print(\"리스트로 생성\")\n",
    "print(s1)"
   ]
  },
  {
   "cell_type": "code",
   "execution_count": 7,
   "id": "41294f38",
   "metadata": {},
   "outputs": [
    {
     "data": {
      "text/plain": [
       "dtype('int64')"
      ]
     },
     "execution_count": 7,
     "metadata": {},
     "output_type": "execute_result"
    }
   ],
   "source": [
    "s1.dtype"
   ]
  },
  {
   "cell_type": "code",
   "execution_count": null,
   "id": "60100822",
   "metadata": {},
   "outputs": [
    {
     "name": "stdout",
     "output_type": "stream",
     "text": [
      "김철수    10\n",
      "김영희    20\n",
      "김행근    30\n",
      "익명     40\n",
      "이제석    50\n",
      "Name: 점수, dtype: int64\n"
     ]
    }
   ],
   "source": [
    "s2 = pd.Series(tmp,\n",
    "               index=['김철수', '김영희', '김행근', '익명', '이제석'],\n",
    "               name='점수')\n",
    "print(s2)\n",
    "\n",
    "# 기본적으로 할당되는 인덱스 : range index\n",
    "\n",
    "# labeled : unique할 필요가 없음 / 같은 인덱스 값을 가질 수 있음"
   ]
  },
  {
   "cell_type": "code",
   "execution_count": 3,
   "id": "78ed7d6b",
   "metadata": {},
   "outputs": [
    {
     "name": "stdout",
     "output_type": "stream",
     "text": [
      "김철수    10\n",
      "김영희    20\n",
      "김행근    30\n",
      "이제석    40\n",
      "이제석    50\n",
      "Name: 점수, dtype: int64\n"
     ]
    }
   ],
   "source": [
    "s2 = pd.Series(tmp,\n",
    "               index=['김철수', '김영희', '김행근', '이제석', '이제석'],\n",
    "               name='점수')\n",
    "print(s2)"
   ]
  },
  {
   "cell_type": "code",
   "execution_count": 6,
   "id": "8bafa183",
   "metadata": {},
   "outputs": [
    {
     "data": {
      "text/plain": [
       "이제석    40\n",
       "이제석    50\n",
       "Name: 점수, dtype: int64"
      ]
     },
     "execution_count": 6,
     "metadata": {},
     "output_type": "execute_result"
    }
   ],
   "source": [
    "s2.loc[\"이제석\"]"
   ]
  },
  {
   "cell_type": "code",
   "execution_count": null,
   "id": "4faf880f",
   "metadata": {},
   "outputs": [
    {
     "name": "stdout",
     "output_type": "stream",
     "text": [
      "서울    9765\n",
      "부산    3419\n",
      "인천    2958\n",
      "대구    2427\n",
      "dtype: int64\n"
     ]
    }
   ],
   "source": [
    "dict_data = {'서울': 9765, '부산': 3419, '인천': 2958, '대구': 2427}\n",
    "s3 = pd.Series(dict_data)\n",
    "\n",
    "print(s3)"
   ]
  },
  {
   "cell_type": "code",
   "execution_count": null,
   "id": "ab2e1175",
   "metadata": {},
   "outputs": [
    {
     "name": "stdout",
     "output_type": "stream",
     "text": [
      "값(values) : [10 20 30 40 50]\n",
      "인덱스(index) : Index(['김철수', '김영희', '김행근', '이제석', '이제석'], dtype='object')\n",
      "이름(name) : 점수\n",
      "크기(size) : 5\n",
      "데이터타입(dtype) : int64\n"
     ]
    }
   ],
   "source": [
    "print(f'값(values) : {s2. values}')\n",
    "print(f'인덱스(index) : {s2.index}')\n",
    "print(f'이름( : {s2.name}')\n",
    "print(f'크기(size) : {s2.size}')\n",
    "print(f'데이터타입(dtype) : {s2.dtype}')"
   ]
  },
  {
   "cell_type": "code",
   "execution_count": 16,
   "id": "d4eb2814",
   "metadata": {},
   "outputs": [
    {
     "name": "stdout",
     "output_type": "stream",
     "text": [
      "<class 'numpy.dtypes.Int64DType'>\n"
     ]
    }
   ],
   "source": [
    "print(type(s2.dtype))"
   ]
  },
  {
   "cell_type": "code",
   "execution_count": 17,
   "id": "e3eb998e",
   "metadata": {},
   "outputs": [
    {
     "name": "stdout",
     "output_type": "stream",
     "text": [
      "이제석    40\n",
      "이제석    50\n",
      "Name: 점수, dtype: int64\n"
     ]
    }
   ],
   "source": [
    "print(s2['이제석'])"
   ]
  },
  {
   "cell_type": "code",
   "execution_count": 18,
   "id": "47d8a0f3",
   "metadata": {},
   "outputs": [
    {
     "name": "stdout",
     "output_type": "stream",
     "text": [
      "10\n"
     ]
    }
   ],
   "source": [
    "print(s2.iloc[0])"
   ]
  },
  {
   "cell_type": "code",
   "execution_count": 22,
   "id": "e9478998",
   "metadata": {},
   "outputs": [
    {
     "name": "stdout",
     "output_type": "stream",
     "text": [
      "김철수    10\n",
      "김행근    30\n",
      "Name: 점수, dtype: int64\n"
     ]
    }
   ],
   "source": [
    "print(s2[['김철수', '김행근']])"
   ]
  },
  {
   "cell_type": "code",
   "execution_count": 29,
   "id": "25c2f189",
   "metadata": {},
   "outputs": [
    {
     "name": "stdout",
     "output_type": "stream",
     "text": [
      "김철수    10\n",
      "이제석    40\n",
      "Name: 점수, dtype: int64\n"
     ]
    }
   ],
   "source": [
    "print(s2.iloc[[0, 3]])"
   ]
  },
  {
   "cell_type": "code",
   "execution_count": 30,
   "id": "b53b04cc",
   "metadata": {},
   "outputs": [
    {
     "data": {
      "text/plain": [
       "np.int64(10)"
      ]
     },
     "execution_count": 30,
     "metadata": {},
     "output_type": "execute_result"
    }
   ],
   "source": [
    "s2.iloc[0]"
   ]
  },
  {
   "cell_type": "code",
   "execution_count": 32,
   "id": "02da11ac",
   "metadata": {},
   "outputs": [
    {
     "data": {
      "text/plain": [
       "np.int64(40)"
      ]
     },
     "execution_count": 32,
     "metadata": {},
     "output_type": "execute_result"
    }
   ],
   "source": [
    "s2.iloc[0] + s2.iloc[2]"
   ]
  },
  {
   "cell_type": "code",
   "execution_count": null,
   "id": "193d6d47",
   "metadata": {},
   "outputs": [
    {
     "data": {
      "text/plain": [
       "김철수    False\n",
       "김영희    False\n",
       "김행근     True\n",
       "이제석     True\n",
       "이제석     True\n",
       "Name: 점수, dtype: bool"
      ]
     },
     "execution_count": 38,
     "metadata": {},
     "output_type": "execute_result"
    }
   ],
   "source": [
    "# boolean mask (예도 결국 Series)\n",
    "\n",
    "s2 >= 30"
   ]
  },
  {
   "cell_type": "code",
   "execution_count": 39,
   "id": "90333f3e",
   "metadata": {},
   "outputs": [
    {
     "name": "stdout",
     "output_type": "stream",
     "text": [
      "students who have a score over 30\n",
      "김행근    30\n",
      "이제석    40\n",
      "이제석    50\n",
      "Name: 점수, dtype: int64\n",
      "\n",
      "students who have score between 20 and 30\n",
      "김영희    20\n",
      "김행근    30\n",
      "Name: 점수, dtype: int64\n"
     ]
    }
   ],
   "source": [
    "print('students who have a score over 30')\n",
    "print(s2[s2 >= 30])\n",
    "\n",
    "print('\\nstudents who have score between 20 and 30')\n",
    "print(s2[(s2 >= 20) & (s2 <= 30)])"
   ]
  },
  {
   "cell_type": "code",
   "execution_count": null,
   "id": "128b08a4",
   "metadata": {},
   "outputs": [
    {
     "name": "stdout",
     "output_type": "stream",
     "text": [
      "    이름  나이  도시  점수\n",
      "0  김철수  25  서울  85\n",
      "1  이영희  30  부산  92\n",
      "2  박민수  35  서울  78\n",
      "3  정수진  28  대구  95\n",
      "4  최동욱  32  부산  88\n"
     ]
    }
   ],
   "source": [
    "import pandas as pd\n",
    "import numpy as np\n",
    "\n",
    "data = {\n",
    "    '이름': ['김철수', '이영희', '박민수', '정수진', '최동욱'],\n",
    "    '나이': [25, 30, 35, 28, 32],\n",
    "    '도시': ['서울', '부산', '서울', '대구', '부산'],\n",
    "    '점수': [85, 92, 78, 95, 88]\n",
    "}\n",
    "\n",
    "df = pd.DataFrame(data)\n",
    "print(df)"
   ]
  },
  {
   "cell_type": "code",
   "execution_count": null,
   "id": "a32bfb05",
   "metadata": {},
   "outputs": [
    {
     "data": {
      "text/plain": [
       "<bound method NDFrame.describe of     이름  나이  도시  점수\n",
       "0  김철수  25  서울  85\n",
       "1  이영희  30  부산  92\n",
       "2  박민수  35  서울  78\n",
       "3  정수진  28  대구  95\n",
       "4  최동욱  32  부산  88>"
      ]
     },
     "execution_count": 4,
     "metadata": {},
     "output_type": "execute_result"
    }
   ],
   "source": [
    "df.describe"
   ]
  },
  {
   "cell_type": "code",
   "execution_count": 7,
   "id": "52ad94dc",
   "metadata": {},
   "outputs": [
    {
     "name": "stdout",
     "output_type": "stream",
     "text": [
      "        이름    나이    도시\n",
      "1000   엘리스    25    서울\n",
      "1010     밥    30  <NA>\n",
      "1020    찰리  <NA>    부산\n",
      "1030  <NA>  <NA>    인천\n"
     ]
    }
   ],
   "source": [
    "import pandas as pd\n",
    "\n",
    "# 기준 DataFrame\n",
    "base = pd.DataFrame({\"이름\": pd.Series([\"엘리스\", \"밥\", \"찰리\"], index=[\n",
    "                    100, 101, 102], dtype=\"string\")})\n",
    "\n",
    "# 각각 일부 인덱스를 가진 Series\n",
    "age_s = pd.Series([25, 30], index=[100, 101], name=\"나이\", dtype=\"Int64\")\n",
    "city_s = pd.Series([\"서울\", \"부산\", \"인천\"], index=[100, 102, 103],\n",
    "                   name=\"도시\", dtype=\"string\")\n",
    "\n",
    "# Series를 DataFrame으로 변환\n",
    "df = pd.concat([base, age_s.to_frame(), city_s.to_frame()],\n",
    "               axis=1)\n",
    "\n",
    "df.index = df.index * 10\n",
    "\n",
    "print(df)"
   ]
  },
  {
   "cell_type": "code",
   "execution_count": null,
   "id": "5b3719cc",
   "metadata": {},
   "outputs": [
    {
     "name": "stdout",
     "output_type": "stream",
     "text": [
      "Shape: (4, 3)\n",
      "ndim: 2\n",
      "Size: 12\n",
      "dtypes: Name    object\n",
      "Age      int64\n",
      "City    object\n",
      "dtype: object\n",
      "Index: RangeIndex(start=0, stop=4, step=1)\n",
      "Columns: Index(['Name', 'Age', 'City'], dtype='object')\n"
     ]
    }
   ],
   "source": [
    "import pandas as pd\n",
    "\n",
    "data = {\n",
    "    \"Name\": [\"Alice\", \"Bob\", \"Charlie\", \"David\"],\n",
    "    \"Age\": [25, 30, 35, 40],\n",
    "    # \"Age\" : [25, 30, 35, 40.],\n",
    "    \"City\": [\"Seoul\", \"Busan\", \"Incheon\", \"Daegu\"],\n",
    "}\n",
    "\n",
    "# df = pd.DataFrame(data, dtype=\"string\")\n",
    "df = pd.DataFrame(data)\n",
    "\n",
    "print(\"Shape:\", df.shape)\n",
    "print(\"ndim:\", df.ndim)\n",
    "print(\"Size:\", df.size)\n",
    "print(\"dtypes:\", df.dtypes)\n",
    "print(\"Index:\", df.index)\n",
    "print(\"Columns:\", df.columns)"
   ]
  },
  {
   "cell_type": "code",
   "execution_count": null,
   "id": "303e3173",
   "metadata": {},
   "outputs": [
    {
     "name": "stdout",
     "output_type": "stream",
     "text": [
      "<class 'pandas.core.frame.DataFrame'>\n",
      "RangeIndex: 4 entries, 0 to 3\n",
      "Data columns (total 3 columns):\n",
      " #   Column  Non-Null Count  Dtype \n",
      "---  ------  --------------  ----- \n",
      " 0   Name    4 non-null      object\n",
      " 1   Age     4 non-null      int64 \n",
      " 2   City    4 non-null      object\n",
      "dtypes: int64(1), object(2)\n",
      "memory usage: 228.0+ bytes\n"
     ]
    }
   ],
   "source": [
    "df.info()"
   ]
  },
  {
   "cell_type": "code",
   "execution_count": 43,
   "id": "09f6edbc",
   "metadata": {},
   "outputs": [],
   "source": [
    "desc = df.describe(include=\"all\")"
   ]
  },
  {
   "cell_type": "code",
   "execution_count": 44,
   "id": "a744a5d2",
   "metadata": {},
   "outputs": [
    {
     "data": {
      "text/html": [
       "<div>\n",
       "<style scoped>\n",
       "    .dataframe tbody tr th:only-of-type {\n",
       "        vertical-align: middle;\n",
       "    }\n",
       "\n",
       "    .dataframe tbody tr th {\n",
       "        vertical-align: top;\n",
       "    }\n",
       "\n",
       "    .dataframe thead th {\n",
       "        text-align: right;\n",
       "    }\n",
       "</style>\n",
       "<table border=\"1\" class=\"dataframe\">\n",
       "  <thead>\n",
       "    <tr style=\"text-align: right;\">\n",
       "      <th></th>\n",
       "      <th>Name</th>\n",
       "      <th>Age</th>\n",
       "      <th>City</th>\n",
       "    </tr>\n",
       "  </thead>\n",
       "  <tbody>\n",
       "    <tr>\n",
       "      <th>count</th>\n",
       "      <td>4</td>\n",
       "      <td>4.000000</td>\n",
       "      <td>4</td>\n",
       "    </tr>\n",
       "    <tr>\n",
       "      <th>unique</th>\n",
       "      <td>4</td>\n",
       "      <td>NaN</td>\n",
       "      <td>4</td>\n",
       "    </tr>\n",
       "    <tr>\n",
       "      <th>top</th>\n",
       "      <td>Alice</td>\n",
       "      <td>NaN</td>\n",
       "      <td>Seoul</td>\n",
       "    </tr>\n",
       "    <tr>\n",
       "      <th>freq</th>\n",
       "      <td>1</td>\n",
       "      <td>NaN</td>\n",
       "      <td>1</td>\n",
       "    </tr>\n",
       "    <tr>\n",
       "      <th>mean</th>\n",
       "      <td>NaN</td>\n",
       "      <td>32.500000</td>\n",
       "      <td>NaN</td>\n",
       "    </tr>\n",
       "    <tr>\n",
       "      <th>std</th>\n",
       "      <td>NaN</td>\n",
       "      <td>6.454972</td>\n",
       "      <td>NaN</td>\n",
       "    </tr>\n",
       "    <tr>\n",
       "      <th>min</th>\n",
       "      <td>NaN</td>\n",
       "      <td>25.000000</td>\n",
       "      <td>NaN</td>\n",
       "    </tr>\n",
       "    <tr>\n",
       "      <th>25%</th>\n",
       "      <td>NaN</td>\n",
       "      <td>28.750000</td>\n",
       "      <td>NaN</td>\n",
       "    </tr>\n",
       "    <tr>\n",
       "      <th>50%</th>\n",
       "      <td>NaN</td>\n",
       "      <td>32.500000</td>\n",
       "      <td>NaN</td>\n",
       "    </tr>\n",
       "    <tr>\n",
       "      <th>75%</th>\n",
       "      <td>NaN</td>\n",
       "      <td>36.250000</td>\n",
       "      <td>NaN</td>\n",
       "    </tr>\n",
       "    <tr>\n",
       "      <th>max</th>\n",
       "      <td>NaN</td>\n",
       "      <td>40.000000</td>\n",
       "      <td>NaN</td>\n",
       "    </tr>\n",
       "  </tbody>\n",
       "</table>\n",
       "</div>"
      ],
      "text/plain": [
       "         Name        Age   City\n",
       "count       4   4.000000      4\n",
       "unique      4        NaN      4\n",
       "top     Alice        NaN  Seoul\n",
       "freq        1        NaN      1\n",
       "mean      NaN  32.500000    NaN\n",
       "std       NaN   6.454972    NaN\n",
       "min       NaN  25.000000    NaN\n",
       "25%       NaN  28.750000    NaN\n",
       "50%       NaN  32.500000    NaN\n",
       "75%       NaN  36.250000    NaN\n",
       "max       NaN  40.000000    NaN"
      ]
     },
     "execution_count": 44,
     "metadata": {},
     "output_type": "execute_result"
    }
   ],
   "source": [
    "desc"
   ]
  },
  {
   "cell_type": "code",
   "execution_count": 47,
   "id": "00af93d8",
   "metadata": {},
   "outputs": [
    {
     "data": {
      "text/plain": [
       "Name      4\n",
       "Age     4.0\n",
       "City      4\n",
       "Name: count, dtype: object"
      ]
     },
     "execution_count": 47,
     "metadata": {},
     "output_type": "execute_result"
    }
   ],
   "source": [
    "# desc.iloc[0]\n",
    "desc.loc['count']"
   ]
  },
  {
   "cell_type": "code",
   "execution_count": 53,
   "id": "bca656e9",
   "metadata": {},
   "outputs": [
    {
     "data": {
      "text/plain": [
       "pandas.core.frame.DataFrame"
      ]
     },
     "execution_count": 53,
     "metadata": {},
     "output_type": "execute_result"
    }
   ],
   "source": [
    "type(desc.iloc[[0]])"
   ]
  },
  {
   "cell_type": "code",
   "execution_count": 55,
   "id": "a78e6204",
   "metadata": {},
   "outputs": [
    {
     "name": "stdout",
     "output_type": "stream",
     "text": [
      "      Name  Age     City\n",
      "0    Alice   25    Seoul\n",
      "1      Bob   30    Busan\n",
      "2  Charlie   35  Incheon\n",
      "3    David   40    Daegu\n",
      "      Name  Age     City\n",
      "2  Charlie   35  Incheon\n",
      "3    David   40    Daegu\n"
     ]
    }
   ],
   "source": [
    "print(df.head())\n",
    "print(df.tail(2))"
   ]
  },
  {
   "cell_type": "code",
   "execution_count": 57,
   "id": "50747e3f",
   "metadata": {},
   "outputs": [],
   "source": [
    "tmp = desc.head(2)"
   ]
  },
  {
   "cell_type": "code",
   "execution_count": null,
   "id": "d47e5b5f",
   "metadata": {},
   "outputs": [
    {
     "name": "stdout",
     "output_type": "stream",
     "text": [
      "<class 'pandas.core.frame.DataFrame'>\n",
      "Index: 11 entries, count to max\n",
      "Data columns (total 3 columns):\n",
      " #   Column  Non-Null Count  Dtype  \n",
      "---  ------  --------------  -----  \n",
      " 0   Name    4 non-null      object \n",
      " 1   Age     8 non-null      float64\n",
      " 2   City    4 non-null      object \n",
      "dtypes: float64(1), object(2)\n",
      "memory usage: 652.0+ bytes\n"
     ]
    }
   ],
   "source": [
    "tmp = desc.info()"
   ]
  },
  {
   "cell_type": "code",
   "execution_count": 60,
   "id": "98e81e6c",
   "metadata": {},
   "outputs": [
    {
     "data": {
      "text/plain": [
       "NoneType"
      ]
     },
     "execution_count": 60,
     "metadata": {},
     "output_type": "execute_result"
    }
   ],
   "source": [
    "type(tmp)"
   ]
  },
  {
   "cell_type": "code",
   "execution_count": 72,
   "id": "05784f04",
   "metadata": {},
   "outputs": [
    {
     "name": "stdout",
     "output_type": "stream",
     "text": [
      "0  \n",
      "<class 'pandas.core.series.Series'>\n",
      "Name    Alice\n",
      "Age        25\n",
      "City    Seoul\n",
      "Name: 0, dtype: object\n",
      "----------\n",
      "1  \n",
      "<class 'pandas.core.series.Series'>\n",
      "Name      Bob\n",
      "Age        30\n",
      "City    Busan\n",
      "Name: 1, dtype: object\n",
      "----------\n",
      "2  \n",
      "<class 'pandas.core.series.Series'>\n",
      "Name    Charlie\n",
      "Age          35\n",
      "City    Incheon\n",
      "Name: 2, dtype: object\n",
      "----------\n",
      "3  \n",
      "<class 'pandas.core.series.Series'>\n",
      "Name    David\n",
      "Age        40\n",
      "City    Daegu\n",
      "Name: 3, dtype: object\n",
      "----------\n"
     ]
    }
   ],
   "source": [
    "for idx, i in df.iterrows():\n",
    "  # print(type(i[1]))\n",
    "  # print(i[1].iloc[0])\n",
    "  print(idx, \" \")\n",
    "  print(type(i))\n",
    "  print(i)\n",
    "  print(\"-\"*10)"
   ]
  },
  {
   "cell_type": "code",
   "execution_count": 78,
   "id": "752ed8b1",
   "metadata": {},
   "outputs": [
    {
     "data": {
      "text/plain": [
       "Index(['이름', '나이', '도시'], dtype='object')"
      ]
     },
     "execution_count": 78,
     "metadata": {},
     "output_type": "execute_result"
    }
   ],
   "source": [
    "df.columns"
   ]
  },
  {
   "cell_type": "code",
   "execution_count": 74,
   "id": "ee06610b",
   "metadata": {},
   "outputs": [
    {
     "data": {
      "text/plain": [
       "RangeIndex(start=0, stop=4, step=1)"
      ]
     },
     "execution_count": 74,
     "metadata": {},
     "output_type": "execute_result"
    }
   ],
   "source": [
    "df.index"
   ]
  },
  {
   "cell_type": "code",
   "execution_count": 76,
   "id": "09c4c0c4",
   "metadata": {},
   "outputs": [],
   "source": [
    "df.columns = ['이름', '나이', '도시']"
   ]
  },
  {
   "cell_type": "code",
   "execution_count": 79,
   "id": "b3dc7b57",
   "metadata": {},
   "outputs": [],
   "source": [
    "df.index = [str(x) for x in range(10, 14)]"
   ]
  },
  {
   "cell_type": "code",
   "execution_count": 80,
   "id": "3ff02cf8",
   "metadata": {},
   "outputs": [
    {
     "data": {
      "text/html": [
       "<div>\n",
       "<style scoped>\n",
       "    .dataframe tbody tr th:only-of-type {\n",
       "        vertical-align: middle;\n",
       "    }\n",
       "\n",
       "    .dataframe tbody tr th {\n",
       "        vertical-align: top;\n",
       "    }\n",
       "\n",
       "    .dataframe thead th {\n",
       "        text-align: right;\n",
       "    }\n",
       "</style>\n",
       "<table border=\"1\" class=\"dataframe\">\n",
       "  <thead>\n",
       "    <tr style=\"text-align: right;\">\n",
       "      <th></th>\n",
       "      <th>이름</th>\n",
       "      <th>나이</th>\n",
       "      <th>도시</th>\n",
       "    </tr>\n",
       "  </thead>\n",
       "  <tbody>\n",
       "    <tr>\n",
       "      <th>10</th>\n",
       "      <td>Alice</td>\n",
       "      <td>25</td>\n",
       "      <td>Seoul</td>\n",
       "    </tr>\n",
       "    <tr>\n",
       "      <th>11</th>\n",
       "      <td>Bob</td>\n",
       "      <td>30</td>\n",
       "      <td>Busan</td>\n",
       "    </tr>\n",
       "    <tr>\n",
       "      <th>12</th>\n",
       "      <td>Charlie</td>\n",
       "      <td>35</td>\n",
       "      <td>Incheon</td>\n",
       "    </tr>\n",
       "    <tr>\n",
       "      <th>13</th>\n",
       "      <td>David</td>\n",
       "      <td>40</td>\n",
       "      <td>Daegu</td>\n",
       "    </tr>\n",
       "  </tbody>\n",
       "</table>\n",
       "</div>"
      ],
      "text/plain": [
       "         이름  나이       도시\n",
       "10    Alice  25    Seoul\n",
       "11      Bob  30    Busan\n",
       "12  Charlie  35  Incheon\n",
       "13    David  40    Daegu"
      ]
     },
     "execution_count": 80,
     "metadata": {},
     "output_type": "execute_result"
    }
   ],
   "source": [
    "df"
   ]
  },
  {
   "cell_type": "code",
   "execution_count": 82,
   "id": "feb50172",
   "metadata": {},
   "outputs": [
    {
     "name": "stdout",
     "output_type": "stream",
     "text": [
      "<class 'pandas.core.frame.DataFrame'>\n",
      "Index: 4 entries, 10 to 13\n",
      "Data columns (total 3 columns):\n",
      " #   Column  Non-Null Count  Dtype \n",
      "---  ------  --------------  ----- \n",
      " 0   이름      4 non-null      object\n",
      " 1   나이      4 non-null      int64 \n",
      " 2   도시      4 non-null      object\n",
      "dtypes: int64(1), object(2)\n",
      "memory usage: 128.0+ bytes\n"
     ]
    }
   ],
   "source": [
    "df.info()"
   ]
  },
  {
   "cell_type": "code",
   "execution_count": 83,
   "id": "1983dd89",
   "metadata": {},
   "outputs": [
    {
     "data": {
      "text/html": [
       "<div>\n",
       "<style scoped>\n",
       "    .dataframe tbody tr th:only-of-type {\n",
       "        vertical-align: middle;\n",
       "    }\n",
       "\n",
       "    .dataframe tbody tr th {\n",
       "        vertical-align: top;\n",
       "    }\n",
       "\n",
       "    .dataframe thead th {\n",
       "        text-align: right;\n",
       "    }\n",
       "</style>\n",
       "<table border=\"1\" class=\"dataframe\">\n",
       "  <thead>\n",
       "    <tr style=\"text-align: right;\">\n",
       "      <th></th>\n",
       "      <th>나이</th>\n",
       "      <th>도시</th>\n",
       "    </tr>\n",
       "    <tr>\n",
       "      <th>이름</th>\n",
       "      <th></th>\n",
       "      <th></th>\n",
       "    </tr>\n",
       "  </thead>\n",
       "  <tbody>\n",
       "    <tr>\n",
       "      <th>Alice</th>\n",
       "      <td>25</td>\n",
       "      <td>Seoul</td>\n",
       "    </tr>\n",
       "    <tr>\n",
       "      <th>Bob</th>\n",
       "      <td>30</td>\n",
       "      <td>Busan</td>\n",
       "    </tr>\n",
       "    <tr>\n",
       "      <th>Charlie</th>\n",
       "      <td>35</td>\n",
       "      <td>Incheon</td>\n",
       "    </tr>\n",
       "    <tr>\n",
       "      <th>David</th>\n",
       "      <td>40</td>\n",
       "      <td>Daegu</td>\n",
       "    </tr>\n",
       "  </tbody>\n",
       "</table>\n",
       "</div>"
      ],
      "text/plain": [
       "         나이       도시\n",
       "이름                  \n",
       "Alice    25    Seoul\n",
       "Bob      30    Busan\n",
       "Charlie  35  Incheon\n",
       "David    40    Daegu"
      ]
     },
     "execution_count": 83,
     "metadata": {},
     "output_type": "execute_result"
    }
   ],
   "source": [
    "df.set_index(\"이름\")"
   ]
  },
  {
   "cell_type": "code",
   "execution_count": 84,
   "id": "6a3c711e",
   "metadata": {},
   "outputs": [
    {
     "name": "stdout",
     "output_type": "stream",
     "text": [
      "<class 'pandas.core.frame.DataFrame'>\n",
      "Index: 4 entries, 10 to 13\n",
      "Data columns (total 3 columns):\n",
      " #   Column  Non-Null Count  Dtype \n",
      "---  ------  --------------  ----- \n",
      " 0   이름      4 non-null      object\n",
      " 1   나이      4 non-null      int64 \n",
      " 2   도시      4 non-null      object\n",
      "dtypes: int64(1), object(2)\n",
      "memory usage: 128.0+ bytes\n"
     ]
    }
   ],
   "source": [
    "df.info()"
   ]
  },
  {
   "cell_type": "code",
   "execution_count": 85,
   "id": "bf24f303",
   "metadata": {},
   "outputs": [],
   "source": [
    "df2 = df.set_index(\"이름\")"
   ]
  },
  {
   "cell_type": "code",
   "execution_count": null,
   "id": "2eb9c9f5",
   "metadata": {},
   "outputs": [
    {
     "name": "stdout",
     "output_type": "stream",
     "text": [
      "<class 'pandas.core.frame.DataFrame'>\n",
      "Index: 4 entries, Alice to David\n",
      "Data columns (total 2 columns):\n",
      " #   Column  Non-Null Count  Dtype \n",
      "---  ------  --------------  ----- \n",
      " 0   나이      4 non-null      int64 \n",
      " 1   도시      4 non-null      object\n",
      "dtypes: int64(1), object(1)\n",
      "memory usage: 96.0+ bytes\n"
     ]
    }
   ],
   "source": [
    "df2.info()"
   ]
  },
  {
   "cell_type": "code",
   "execution_count": null,
   "id": "c8d2ecda",
   "metadata": {},
   "outputs": [
    {
     "data": {
      "text/html": [
       "<div>\n",
       "<style scoped>\n",
       "    .dataframe tbody tr th:only-of-type {\n",
       "        vertical-align: middle;\n",
       "    }\n",
       "\n",
       "    .dataframe tbody tr th {\n",
       "        vertical-align: top;\n",
       "    }\n",
       "\n",
       "    .dataframe thead th {\n",
       "        text-align: right;\n",
       "    }\n",
       "</style>\n",
       "<table border=\"1\" class=\"dataframe\">\n",
       "  <thead>\n",
       "    <tr style=\"text-align: right;\">\n",
       "      <th></th>\n",
       "      <th>나이</th>\n",
       "      <th>도시</th>\n",
       "    </tr>\n",
       "  </thead>\n",
       "  <tbody>\n",
       "    <tr>\n",
       "      <th>0</th>\n",
       "      <td>25</td>\n",
       "      <td>Seoul</td>\n",
       "    </tr>\n",
       "    <tr>\n",
       "      <th>1</th>\n",
       "      <td>30</td>\n",
       "      <td>Busan</td>\n",
       "    </tr>\n",
       "    <tr>\n",
       "      <th>2</th>\n",
       "      <td>35</td>\n",
       "      <td>Incheon</td>\n",
       "    </tr>\n",
       "    <tr>\n",
       "      <th>3</th>\n",
       "      <td>40</td>\n",
       "      <td>Daegu</td>\n",
       "    </tr>\n",
       "  </tbody>\n",
       "</table>\n",
       "</div>"
      ],
      "text/plain": [
       "   나이       도시\n",
       "0  25    Seoul\n",
       "1  30    Busan\n",
       "2  35  Incheon\n",
       "3  40    Daegu"
      ]
     },
     "execution_count": 89,
     "metadata": {},
     "output_type": "execute_result"
    }
   ],
   "source": [
    "df2.reset_index(drop=True)"
   ]
  },
  {
   "cell_type": "code",
   "execution_count": 90,
   "id": "179994f5",
   "metadata": {},
   "outputs": [
    {
     "data": {
      "text/plain": [
       "10      Alice\n",
       "11        Bob\n",
       "12    Charlie\n",
       "13      David\n",
       "Name: 이름, dtype: object"
      ]
     },
     "execution_count": 90,
     "metadata": {},
     "output_type": "execute_result"
    }
   ],
   "source": [
    "df['이름']"
   ]
  },
  {
   "cell_type": "code",
   "execution_count": null,
   "id": "175d9fbf",
   "metadata": {},
   "outputs": [],
   "source": []
  }
 ],
 "metadata": {
  "kernelspec": {
   "display_name": "univ-pratice-programming (3.13.7)",
   "language": "python",
   "name": "python3"
  },
  "language_info": {
   "codemirror_mode": {
    "name": "ipython",
    "version": 3
   },
   "file_extension": ".py",
   "mimetype": "text/x-python",
   "name": "python",
   "nbconvert_exporter": "python",
   "pygments_lexer": "ipython3",
   "version": "3.13.7"
  }
 },
 "nbformat": 4,
 "nbformat_minor": 5
}
